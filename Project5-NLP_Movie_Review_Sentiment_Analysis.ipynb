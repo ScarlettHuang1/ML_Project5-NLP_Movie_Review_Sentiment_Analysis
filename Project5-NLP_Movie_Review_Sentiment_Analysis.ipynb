{
 "cells": [
  {
   "cell_type": "markdown",
   "metadata": {
    "id": "70df26be-5638-4b0d-a252-4437eb76aa46"
   },
   "source": [
    "### Natural Language Processing\n",
    "We will train a supervised model to predict if a movie has a positive or a negative review."
   ]
  },
  {
   "cell_type": "markdown",
   "metadata": {
    "id": "2e0d9a19-25ea-4490-b0e8-7909bcdc3d9d"
   },
   "source": [
    "####  **Dataset loading & dev/test splits**"
   ]
  },
  {
   "cell_type": "markdown",
   "metadata": {
    "id": "fafa37c4-c8fc-4697-9bbe-11539d710bf7"
   },
   "source": [
    "**1.0) Load the movie reviews dataset from NLTK library**"
   ]
  },
  {
   "cell_type": "code",
   "execution_count": 1,
   "metadata": {
    "colab": {
     "base_uri": "https://localhost:8080/"
    },
    "id": "5f4ce405-237b-42d2-9c81-25ff28deaf4a",
    "outputId": "46c1d8f9-5493-4df8-e40f-b62cf7bfbbfc"
   },
   "outputs": [
    {
     "name": "stderr",
     "output_type": "stream",
     "text": [
      "[nltk_data] Downloading package movie_reviews to\n",
      "[nltk_data]     /Users/shijia_huang/nltk_data...\n",
      "[nltk_data]   Package movie_reviews is already up-to-date!\n",
      "[nltk_data] Downloading package stopwords to\n",
      "[nltk_data]     /Users/shijia_huang/nltk_data...\n",
      "[nltk_data]   Package stopwords is already up-to-date!\n",
      "[nltk_data] Downloading package punkt to\n",
      "[nltk_data]     /Users/shijia_huang/nltk_data...\n",
      "[nltk_data]   Package punkt is already up-to-date!\n"
     ]
    }
   ],
   "source": [
    "import nltk\n",
    "nltk.download(\"movie_reviews\")\n",
    "import pandas as pd\n",
    "from nltk.corpus import movie_reviews\n",
    "from sklearn.model_selection import train_test_split\n",
    "from nltk.corpus import stopwords\n",
    "nltk.download('stopwords')\n",
    "nltk.download('punkt')\n",
    "stop = stopwords.words('english')\n",
    "import string\n",
    "import re\n",
    "from nltk.stem import PorterStemmer\n",
    "from nltk.tokenize import word_tokenize\n",
    "from sklearn.feature_extraction.text import CountVectorizer\n",
    "from sklearn.linear_model import LogisticRegression\n",
    "from sklearn.feature_extraction.text import TfidfVectorizer\n"
   ]
  },
  {
   "cell_type": "code",
   "execution_count": 2,
   "metadata": {
    "id": "Nmt1nVaNpkKy"
   },
   "outputs": [],
   "source": [
    "negative_fileids = movie_reviews.fileids('neg')\n",
    "positive_fileids = movie_reviews.fileids('pos')\n",
    "\n",
    "pos_document = [(' '.join(movie_reviews.words(file_id)),category) for file_id in movie_reviews.fileids() for category in movie_reviews.categories(file_id) if category == 'pos']\n",
    "neg_document = [(' '.join(movie_reviews.words(file_id)),category) for file_id in movie_reviews.fileids() for category in movie_reviews.categories(file_id) if category == 'neg']\n",
    "\n",
    "# List of postive and negative reviews\n",
    "pos_list = [pos[0] for pos in pos_document]\n",
    "neg_list = [neg[0] for neg in neg_document]"
   ]
  },
  {
   "cell_type": "markdown",
   "metadata": {
    "id": "-B4xT6L714l2"
   },
   "source": [
    "**1.1) Make a data frame that has reviews and its label**"
   ]
  },
  {
   "cell_type": "code",
   "execution_count": 3,
   "metadata": {
    "id": "zFkLGJ5p118y"
   },
   "outputs": [
    {
     "data": {
      "text/html": [
       "<div>\n",
       "<style scoped>\n",
       "    .dataframe tbody tr th:only-of-type {\n",
       "        vertical-align: middle;\n",
       "    }\n",
       "\n",
       "    .dataframe tbody tr th {\n",
       "        vertical-align: top;\n",
       "    }\n",
       "\n",
       "    .dataframe thead th {\n",
       "        text-align: right;\n",
       "    }\n",
       "</style>\n",
       "<table border=\"1\" class=\"dataframe\">\n",
       "  <thead>\n",
       "    <tr style=\"text-align: right;\">\n",
       "      <th></th>\n",
       "      <th>review</th>\n",
       "      <th>sentiment</th>\n",
       "    </tr>\n",
       "  </thead>\n",
       "  <tbody>\n",
       "    <tr>\n",
       "      <th>0</th>\n",
       "      <td>films adapted from comic books have had plenty...</td>\n",
       "      <td>positive</td>\n",
       "    </tr>\n",
       "    <tr>\n",
       "      <th>1</th>\n",
       "      <td>every now and then a movie comes along from a ...</td>\n",
       "      <td>positive</td>\n",
       "    </tr>\n",
       "    <tr>\n",
       "      <th>2</th>\n",
       "      <td>you ' ve got mail works alot better than it de...</td>\n",
       "      <td>positive</td>\n",
       "    </tr>\n",
       "    <tr>\n",
       "      <th>3</th>\n",
       "      <td>\" jaws \" is a rare film that grabs your attent...</td>\n",
       "      <td>positive</td>\n",
       "    </tr>\n",
       "    <tr>\n",
       "      <th>4</th>\n",
       "      <td>moviemaking is a lot like being the general ma...</td>\n",
       "      <td>positive</td>\n",
       "    </tr>\n",
       "  </tbody>\n",
       "</table>\n",
       "</div>"
      ],
      "text/plain": [
       "                                              review sentiment\n",
       "0  films adapted from comic books have had plenty...  positive\n",
       "1  every now and then a movie comes along from a ...  positive\n",
       "2  you ' ve got mail works alot better than it de...  positive\n",
       "3  \" jaws \" is a rare film that grabs your attent...  positive\n",
       "4  moviemaking is a lot like being the general ma...  positive"
      ]
     },
     "execution_count": 3,
     "metadata": {},
     "output_type": "execute_result"
    }
   ],
   "source": [
    "pos = pd.DataFrame({'review': pos_list, 'sentiment' : 'positive'})\n",
    "neg = pd.DataFrame({'review': neg_list, 'sentiment': 'negative'})\n",
    "\n",
    "df = pos.append(neg)\n",
    "df.head() "
   ]
  },
  {
   "cell_type": "markdown",
   "metadata": {
    "id": "eWdYSe2xxxCz"
   },
   "source": [
    "**1.2 Visualize the class distribution of the movie reviews**"
   ]
  },
  {
   "cell_type": "code",
   "execution_count": 4,
   "metadata": {
    "id": "2be173e3"
   },
   "outputs": [
    {
     "data": {
      "image/png": "[encoded data removed]",
      "text/plain": [
       "<Figure size 432x288 with 1 Axes>"
      ]
     },
     "metadata": {},
     "output_type": "display_data"
    }
   ],
   "source": [
    "import matplotlib.pyplot as plt\n",
    "ct = df['sentiment'].value_counts()\n",
    "\n",
    "plt.pie(ct,labels = ct.index)\n",
    "plt.title(\"Distribution of Label\")\n",
    "plt.show()\n"
   ]
  },
  {
   "cell_type": "markdown",
   "metadata": {
    "id": "12eae071-fd8a-4a46-9958-0525c635fd88"
   },
   "source": [
    "**1.3) Create a development & test split (80/20 ratio):**"
   ]
  },
  {
   "cell_type": "code",
   "execution_count": 5,
   "metadata": {
    "id": "1a09323b"
   },
   "outputs": [
    {
     "name": "stdout",
     "output_type": "stream",
     "text": [
      "development features shape: (1600, 1)\n",
      "test featrues shape: (400, 1)\n"
     ]
    }
   ],
   "source": [
    "from sklearn.model_selection import train_test_split # Import train_test_split function\n",
    "df_X = df.drop(columns = ['sentiment'], axis = 1)\n",
    "df_y = df['sentiment']\n",
    "\n",
    "X_train, X_test, y_train, y_test = train_test_split(df_X, df_y,test_size=0.2, random_state=0)\n",
    "\n",
    "print('development features shape:', X_train.shape)\n",
    "print('test featrues shape:', X_test.shape)\n"
   ]
  },
  {
   "cell_type": "markdown",
   "metadata": {
    "id": "32b23398-e80e-4624-b89e-c02fabfd3f8d"
   },
   "source": [
    "#### **Data preprocessing**\n",
    "Data preprocessing before we tokenize the data: remove `#` symbol, hyperlinks, stop words & punctuations from the data."
   ]
  },
  {
   "cell_type": "markdown",
   "metadata": {
    "id": "f89d9d69-1640-4583-a7b7-7ec04ccf3310"
   },
   "source": [
    "**1.4) Replace the `#` symbol with '' in every review**"
   ]
  },
  {
   "cell_type": "code",
   "execution_count": 6,
   "metadata": {
    "id": "5db4dd6d-e775-49d3-96e1-57620c042d46"
   },
   "outputs": [],
   "source": [
    "X_train['new_review'] = X_train['review'].str.replace('#','')\n",
    "X_test['new_review'] = X_test['review'].str.replace('#','')\n"
   ]
  },
  {
   "cell_type": "markdown",
   "metadata": {
    "id": "24c4caa8-d71d-46a8-8859-a8e85c56acfe"
   },
   "source": [
    "**1.5) Replace hyperlinks with '' in every review**"
   ]
  },
  {
   "cell_type": "markdown",
   "metadata": {
    "id": "492ae463-b611-4292-9ad2-b778856bf8bc"
   },
   "source": [
    "**1.6) Remove all stop words**"
   ]
  },
  {
   "cell_type": "code",
   "execution_count": 7,
   "metadata": {
    "id": "961d73fd-a662-46f2-85a2-83bf6b978189"
   },
   "outputs": [],
   "source": [
    "def removeSw(text):\n",
    "    text_tokens = text.split()\n",
    "    tokens_without_sw = [word for word in text_tokens if not word.lower() in stop]\n",
    "    return \" \".join(tokens_without_sw)\n",
    "\n",
    "\n",
    "X_train['new_review_sw'] = [removeSw(review) for review in X_train['new_review']]\n",
    "X_test['new_review_sw'] = [removeSw(review) for review in X_test['new_review']]\n",
    "    "
   ]
  },
  {
   "cell_type": "markdown",
   "metadata": {
    "id": "169bf8ad-f7ba-4e67-a1a0-92fcdd193ab9"
   },
   "source": [
    "**1.7) Remove all punctuations**"
   ]
  },
  {
   "cell_type": "code",
   "execution_count": 8,
   "metadata": {
    "id": "774743e0-8cf0-4dbb-a6fa-006ff076bb9e"
   },
   "outputs": [
    {
     "name": "stderr",
     "output_type": "stream",
     "text": [
      "/Users/shijia_huang/opt/anaconda3/lib/python3.7/site-packages/ipykernel_launcher.py:3: FutureWarning: The default value of regex will change from True to False in a future version.\n",
      "  This is separate from the ipykernel package so we can avoid doing imports until\n",
      "/Users/shijia_huang/opt/anaconda3/lib/python3.7/site-packages/ipykernel_launcher.py:4: FutureWarning: The default value of regex will change from True to False in a future version.\n",
      "  after removing the cwd from sys.path.\n"
     ]
    }
   ],
   "source": [
    "X_train['new_review_p'] = X_train['new_review_sw'].str.replace('[^\\w\\s]','')\n",
    "X_test['new_review_p'] = X_test['new_review_sw'].str.replace('[^\\w\\s]','')\n"
   ]
  },
  {
   "cell_type": "markdown",
   "metadata": {
    "id": "b2f1af18-0c07-4ffb-994e-daead4740a53"
   },
   "source": [
    "**1.8) Apply stemming on the development & test datasets using Porter algorithm**"
   ]
  },
  {
   "cell_type": "code",
   "execution_count": 9,
   "metadata": {
    "id": "c84a52f6-a62a-4033-8d1d-239ff6904248"
   },
   "outputs": [],
   "source": [
    "porter = PorterStemmer()\n",
    "\n",
    "def stemSentence(sentence):\n",
    "    token_words = word_tokenize(sentence)\n",
    "    stem_sentence = [porter.stem(word) for word in token_words]\n",
    "    return \" \".join(stem_sentence)\n",
    "\n",
    "X_train['new_review_stem'] = [stemSentence(review) for review in X_train['new_review_p']]\n",
    "X_test['new_review_stem'] = [stemSentence(review) for review in X_test['new_review_p']]\n"
   ]
  },
  {
   "cell_type": "code",
   "execution_count": 10,
   "metadata": {},
   "outputs": [],
   "source": [
    "X_train_clean = pd.DataFrame(X_train['new_review_stem'])\n",
    "X_test_clean = pd.DataFrame(X_test['new_review_stem'])"
   ]
  },
  {
   "cell_type": "markdown",
   "metadata": {
    "id": "687e23ef-dafd-4183-b2f1-86089e281dd8"
   },
   "source": [
    "#### **Model training**"
   ]
  },
  {
   "cell_type": "markdown",
   "metadata": {
    "id": "0c40fa44-01ad-4788-98b9-9c8f0c1252ef"
   },
   "source": [
    "**1.9) Create Bag of Words features for each review in the development dataset**"
   ]
  },
  {
   "cell_type": "code",
   "execution_count": 11,
   "metadata": {
    "id": "c17c6b99-9dfb-4d30-9e03-d596a9da880a"
   },
   "outputs": [],
   "source": [
    "vector = CountVectorizer()\n",
    "X_train_bag = vector.fit_transform(X_train_clean['new_review_stem']) \n",
    "X_test_bag = vector.transform(X_test_clean['new_review_stem'])\n"
   ]
  },
  {
   "cell_type": "markdown",
   "metadata": {
    "id": "4baf65cd-019b-4ff4-b93c-3ca8cfffca8e"
   },
   "source": [
    "**1.10) Train a Logistic Regression model on the development dataset**"
   ]
  },
  {
   "cell_type": "code",
   "execution_count": 12,
   "metadata": {
    "id": "3433a6b0-408d-462e-9072-3495b21bc97b"
   },
   "outputs": [
    {
     "data": {
      "text/plain": [
       "0.8275"
      ]
     },
     "execution_count": 12,
     "metadata": {},
     "output_type": "execute_result"
    }
   ],
   "source": [
    "lr = LogisticRegression().fit(X_train_bag, y_train)\n",
    "lr.score(X_test_bag, y_test)\n"
   ]
  },
  {
   "cell_type": "markdown",
   "metadata": {
    "id": "1c16c6f6-7ab2-4d7a-b9dc-098a72381340"
   },
   "source": [
    "**1.11) Create TF-IDF features for each review in the development dataset**"
   ]
  },
  {
   "cell_type": "code",
   "execution_count": 13,
   "metadata": {
    "id": "7b417843-ffc4-4614-b2ef-964f8ec3e510"
   },
   "outputs": [],
   "source": [
    "vector = TfidfVectorizer(stop_words = 'english')\n",
    "\n",
    "X_train_TFIDF = vector.fit_transform(X_train_clean['new_review_stem']) \n",
    "X_test_TFIDF = vector.transform(X_test_clean['new_review_stem'])\n"
   ]
  },
  {
   "cell_type": "markdown",
   "metadata": {
    "id": "ea3c9776-aad9-4eda-b3c2-d9f6b3e52427"
   },
   "source": [
    "**1.12) Train the Logistic Regression model on the development dataset with TF-IDF features**"
   ]
  },
  {
   "cell_type": "code",
   "execution_count": 14,
   "metadata": {
    "id": "b8c7fe8b-61de-4daa-a338-74295a4902ce"
   },
   "outputs": [
    {
     "data": {
      "text/plain": [
       "0.8375"
      ]
     },
     "execution_count": 14,
     "metadata": {},
     "output_type": "execute_result"
    }
   ],
   "source": [
    "lr = LogisticRegression().fit(X_train_TFIDF, y_train)\n",
    "lr.score(X_test_TFIDF, y_test)\n"
   ]
  },
  {
   "cell_type": "markdown",
   "metadata": {
    "id": "ab0129e7-a0ea-473e-9ad1-667b44a13a92"
   },
   "source": [
    "**1.13) Compare the performance of the two models on the test dataset. Explain the difference**"
   ]
  },
  {
   "cell_type": "markdown",
   "metadata": {
    "id": "7ca644f9"
   },
   "source": [
    "#### The performance of TFIDF (0.8375) is higher than than that of Bag of Words(0.8275). TFIDF compares how many times a word appears in text versus how many text the word appears in, and decrease the combined weight of similar words appearing in texts. Bag of words does not implement any fancy functions, and just regard each text as a set of its words (with the same weight). Thus the Bag of Words performs slightly worse.\n"
   ]
  }
 ],
 "metadata": {
  "colab": {
   "provenance": []
  },
  "kernelspec": {
   "display_name": "Python 3",
   "language": "python",
   "name": "python3"
  },
  "language_info": {
   "codemirror_mode": {
    "name": "ipython",
    "version": 3
   },
   "file_extension": ".py",
   "mimetype": "text/x-python",
   "name": "python",
   "nbconvert_exporter": "python",
   "pygments_lexer": "ipython3",
   "version": "3.7.6"
  }
 },
 "nbformat": 4,
 "nbformat_minor": 5
}
